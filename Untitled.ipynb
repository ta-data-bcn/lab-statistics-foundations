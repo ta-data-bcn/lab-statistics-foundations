{
 "cells": [
  {
   "cell_type": "markdown",
   "metadata": {},
   "source": [
    "### Challenge 1"
   ]
  },
  {
   "cell_type": "markdown",
   "metadata": {},
   "source": [
    "measurable space = (1,1), (1,2), (1,3) etc.\n",
    "Sum of the values = {2,3,4,5,6,7,8,9,10,11,12}\n",
    "max value is 12\n",
    "Event A = 3 /36\n",
    "Event B = 1/2\n",
    "Event C = 1 / 36"
   ]
  },
  {
   "cell_type": "markdown",
   "metadata": {},
   "source": [
    "### Challenge 2"
   ]
  },
  {
   "cell_type": "code",
   "execution_count": null,
   "metadata": {},
   "outputs": [],
   "source": [
    "x = (1/((1/52)*(1/51)))"
   ]
  },
  {
   "cell_type": "markdown",
   "metadata": {},
   "source": [
    "Measurable space = 2652\n",
    "Sum of the values = {4,5,6,7,8,9,10,11,12,13,14,15,16,17,18,19,20,21,22,23,24,25}\n",
    "number of hearts/spades =  1/4\n",
    "Event A = 5%\n",
    "Event B = (A,2) or (figure,7) or (8,9)\n",
    "Event C = 7 / 13 * (27/51)"
   ]
  },
  {
   "cell_type": "code",
   "execution_count": null,
   "metadata": {},
   "outputs": [],
   "source": [
    "#3 figures, 4 suits\n",
    "A =((3*4)/52 * ((3*4)-1)/51)"
   ]
  },
  {
   "cell_type": "markdown",
   "metadata": {},
   "source": [
    "### Challenge 3"
   ]
  },
  {
   "cell_type": "markdown",
   "metadata": {},
   "source": [
    "Score of player A = {1,2,3,4,5,6}\n",
    "Greatest score = 6\n",
    "Player A has a higher score = 5 / 12\n",
    "Player A earnings = P(Player A score) - P(Player B Score), which is 0\n",
    "Event A = 1 / 6\n",
    "Event B = 4 / 36\n",
    "Event C = P(A 5 or 6) * P(B 1 or 2), 1/3 * 1/3\n",
    "(1,(4,5,6), (2,4,5) 3(3,6) 7/36\n",
    "6 / 36"
   ]
  }
 ],
 "metadata": {
  "kernelspec": {
   "display_name": "Python 3",
   "language": "python",
   "name": "python3"
  },
  "language_info": {
   "codemirror_mode": {
    "name": "ipython",
    "version": 3
   },
   "file_extension": ".py",
   "mimetype": "text/x-python",
   "name": "python",
   "nbconvert_exporter": "python",
   "pygments_lexer": "ipython3",
   "version": "3.7.4"
  }
 },
 "nbformat": 4,
 "nbformat_minor": 2
}
