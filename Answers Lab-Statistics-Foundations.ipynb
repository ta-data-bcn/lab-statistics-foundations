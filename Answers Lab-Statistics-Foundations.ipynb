{
 "cells": [
  {
   "cell_type": "markdown",
   "metadata": {},
   "source": [
    "# Statistics Foundation"
   ]
  },
  {
   "cell_type": "markdown",
   "metadata": {},
   "source": [
    "## Challenge 1"
   ]
  },
  {
   "cell_type": "markdown",
   "metadata": {},
   "source": [
    "I. One player rolls two dices. Describe the measurable space and the random variable for:\n",
    "- A. The values that the player obtains.\n",
    "- B. The sum of the values obtained.\n",
    "- C. The maximum value obtained after rolling both dices."
   ]
  },
  {
   "cell_type": "markdown",
   "metadata": {},
   "source": [
    "#### Solution:\n",
    "A."
   ]
  },
  {
   "cell_type": "code",
   "execution_count": null,
   "metadata": {},
   "outputs": [],
   "source": [
    "# The measureable space is every combination of outcomes on the two dices\n",
    "sample_space_A = ((1,1), (1,2), (1,3), (1,4), (1,5), (1,6),\n",
    "                    (2,1), (2,2), (2,3), (2,4), (2,5), (2,6), \n",
    "                    (3,1), (3,2), (3,3), (3,4), (3,5), (3,6),\n",
    "                    (4,1), (4,2), (4,3), (4,4), (4,5), (4,6),\n",
    "                    (5,1), (5,2), (5,3), (5,4), (5,5), (5,6),\n",
    "                    (6,1), (6,2), (6,3), (6,4), (6,5), (6,6))\n",
    "\n",
    "# The random variable of a though is the outcome of the dices, every combination of outcomes above has the probability\n",
    "random_variable_A = 1/6 * 1/6"
   ]
  },
  {
   "cell_type": "markdown",
   "metadata": {},
   "source": [
    "B."
   ]
  },
  {
   "cell_type": "code",
   "execution_count": null,
   "metadata": {},
   "outputs": [],
   "source": [
    "# The measureable space is the distinct sum of every combination of outcomes of the two dices, \n",
    "sample_space_B = ((2), (3), (4), (5), (6), (7),\n",
    "                        (3), (4), (5), (6), (7), (8), \n",
    "                            (4), (5), (6), (7), (8), (9),\n",
    "                                (5), (6), (7), (8), (9), (10),\n",
    "                                    (6), (7), (8), (9), (10), (11),\n",
    "                                        (7), (8), (9), (10), (11), (12))\n",
    "\n",
    "# some sums are more likely than others\n",
    "sample_space_B_2 = (2, 3, 4, 5, 6, 7, 8, 9, 10, 11, 12)\n",
    "\n",
    "#the random variable is a descrete random variable determined by the sum of the two outcomes"
   ]
  },
  {
   "cell_type": "markdown",
   "metadata": {},
   "source": [
    "C."
   ]
  },
  {
   "cell_type": "code",
   "execution_count": null,
   "metadata": {},
   "outputs": [],
   "source": [
    "# The maximum value obtained after rolling both dices needs to be within the following very small sample space:\n",
    "sample_space_C = max(sample_space_B) = 12\n",
    "\n",
    "# The random variable needs to be (6,6)\n",
    "random_variable_C = 1/6 * 1/6"
   ]
  },
  {
   "cell_type": "markdown",
   "metadata": {},
   "source": [
    "II. Describe the following events:\n",
    "- Case A: Both values are greater than 5.\n",
    "- Case B: The sum of values is even.\n",
    "- Case C: The maximum is the value of both rolls."
   ]
  },
  {
   "cell_type": "markdown",
   "metadata": {},
   "source": [
    "#### Solution:\n",
    "A."
   ]
  },
  {
   "cell_type": "code",
   "execution_count": 3,
   "metadata": {},
   "outputs": [
    {
     "data": {
      "text/plain": [
       "0.027777777777777776"
      ]
     },
     "execution_count": 3,
     "metadata": {},
     "output_type": "execute_result"
    }
   ],
   "source": [
    "# both values are greater than 5 means that the probability is 1/6 for each dice\n",
    "both_values_greater_than_5 = 1/6 * 1/6\n",
    "both_values_greater_than_5"
   ]
  },
  {
   "cell_type": "markdown",
   "metadata": {},
   "source": [
    "B."
   ]
  },
  {
   "cell_type": "code",
   "execution_count": 16,
   "metadata": {},
   "outputs": [
    {
     "name": "stdout",
     "output_type": "stream",
     "text": [
      "[2, 3, 3, 4, 4, 4, 5, 5, 5, 5, 6, 6, 6, 6, 6, 7, 7, 7, 7, 7, 7, 8, 8, 8, 8, 8, 9, 9, 9, 9, 10, 10, 10, 11, 11, 12]\n",
      "36\n"
     ]
    }
   ],
   "source": [
    "# the sum of both values being even happens in half the possible cases, see sample_space_B\n",
    "\n",
    "sample_space_B = ((2), (3), (4), (5), (6), (7),\n",
    "                        (3), (4), (5), (6), (7), (8), \n",
    "                            (4), (5), (6), (7), (8), (9),\n",
    "                                (5), (6), (7), (8), (9), (10),\n",
    "                                    (6), (7), (8), (9), (10), (11),\n",
    "                                        (7), (8), (9), (10), (11), (12))\n",
    "# adding values to list sorted\n",
    "possible_sums_sorted = []\n",
    "for value in sample_space_B:\n",
    "    possible_sums_sorted.append(value)\n",
    "    possible_sums_sorted.sort()\n",
    "\n",
    "print(possible_sums_sorted)\n",
    "print(len(possible_sums_sorted))"
   ]
  },
  {
   "cell_type": "code",
   "execution_count": 18,
   "metadata": {},
   "outputs": [
    {
     "data": {
      "text/plain": [
       "[2, 4, 4, 4, 6, 6, 6, 6, 6, 8, 8, 8, 8, 8, 10, 10, 10, 12]"
      ]
     },
     "execution_count": 18,
     "metadata": {},
     "output_type": "execute_result"
    }
   ],
   "source": [
    "even_outcomes = [value for value in possible_sums_sorted if value % 2 == 0]\n",
    "even_outcomes"
   ]
  },
  {
   "cell_type": "code",
   "execution_count": 19,
   "metadata": {},
   "outputs": [
    {
     "name": "stdout",
     "output_type": "stream",
     "text": [
      "18\n"
     ]
    }
   ],
   "source": [
    "print(len(even_outcomes))"
   ]
  },
  {
   "cell_type": "code",
   "execution_count": 20,
   "metadata": {},
   "outputs": [
    {
     "data": {
      "text/plain": [
       "0.5"
      ]
     },
     "execution_count": 20,
     "metadata": {},
     "output_type": "execute_result"
    }
   ],
   "source": [
    "probability_even_number = len(even_outcomes) / len(possible_sums_sorted)\n",
    "probability_even_number"
   ]
  },
  {
   "cell_type": "markdown",
   "metadata": {},
   "source": [
    "C."
   ]
  },
  {
   "cell_type": "code",
   "execution_count": 21,
   "metadata": {},
   "outputs": [
    {
     "data": {
      "text/plain": [
       "0.027777777777777776"
      ]
     },
     "execution_count": 21,
     "metadata": {},
     "output_type": "execute_result"
    }
   ],
   "source": [
    "# The maximum is the value of both rolls is equal to both values are greater than 5 means that the probability is 1/6 for each dice\n",
    "both_values_greater_than_5 = 1/6 * 1/6\n",
    "both_values_greater_than_5"
   ]
  },
  {
   "cell_type": "markdown",
   "metadata": {},
   "source": [
    "### Challenge 2"
   ]
  },
  {
   "cell_type": "markdown",
   "metadata": {},
   "source": [
    "I. One player picks two cards from a poker deck. Describe the measurable space and the random variable for:\n",
    "-  A. The number of figures he picks.\n",
    "-  B. The sum of card values. Consider that the value of figures is 10 and the value of aces is 15.\n",
    "-  C. The number of hearts or spades he picks."
   ]
  },
  {
   "cell_type": "markdown",
   "metadata": {},
   "source": [
    "#### Solution:"
   ]
  },
  {
   "cell_type": "markdown",
   "metadata": {},
   "source": [
    "A."
   ]
  },
  {
   "cell_type": "code",
   "execution_count": null,
   "metadata": {},
   "outputs": [],
   "source": []
  },
  {
   "cell_type": "markdown",
   "metadata": {},
   "source": [
    "B."
   ]
  },
  {
   "cell_type": "code",
   "execution_count": null,
   "metadata": {},
   "outputs": [],
   "source": []
  },
  {
   "cell_type": "markdown",
   "metadata": {},
   "source": [
    "C."
   ]
  },
  {
   "cell_type": "code",
   "execution_count": null,
   "metadata": {},
   "outputs": [],
   "source": []
  },
  {
   "cell_type": "markdown",
   "metadata": {},
   "source": [
    "II. Describe the following events:\n",
    "- Case A: The number of figures in the cards the player picked is two.\n",
    "- Case B: The sum of card values is 17.\n",
    "- Case C: The value of both cards is less than 8."
   ]
  },
  {
   "cell_type": "markdown",
   "metadata": {},
   "source": [
    "#### Solution:"
   ]
  },
  {
   "cell_type": "markdown",
   "metadata": {},
   "source": [
    "A."
   ]
  },
  {
   "cell_type": "code",
   "execution_count": null,
   "metadata": {},
   "outputs": [],
   "source": []
  },
  {
   "cell_type": "markdown",
   "metadata": {},
   "source": [
    "B."
   ]
  },
  {
   "cell_type": "code",
   "execution_count": null,
   "metadata": {},
   "outputs": [],
   "source": []
  },
  {
   "cell_type": "markdown",
   "metadata": {},
   "source": [
    "C."
   ]
  },
  {
   "cell_type": "code",
   "execution_count": null,
   "metadata": {},
   "outputs": [],
   "source": []
  },
  {
   "cell_type": "markdown",
   "metadata": {},
   "source": [
    "### Challenge 3"
   ]
  },
  {
   "cell_type": "markdown",
   "metadata": {},
   "source": [
    "Two players roll a dice. Describe the measurable space and the random variable for:\n",
    "- A. The score of player A.\n",
    "- B. The greatest score.\n",
    "- C. The earnings of player A if the game rules state that:  \n",
    "\"The player with the greatest score gets a coin from the other player.\".\n",
    "- D. The earnings of player A if the game rules state that:  \n",
    "\"The player with the greatest score gets as many coins as the difference between the score of player A and player B.\". "
   ]
  },
  {
   "cell_type": "markdown",
   "metadata": {},
   "source": [
    "A."
   ]
  },
  {
   "cell_type": "code",
   "execution_count": null,
   "metadata": {},
   "outputs": [],
   "source": []
  },
  {
   "cell_type": "markdown",
   "metadata": {},
   "source": [
    "B."
   ]
  },
  {
   "cell_type": "code",
   "execution_count": null,
   "metadata": {},
   "outputs": [],
   "source": []
  },
  {
   "cell_type": "markdown",
   "metadata": {},
   "source": [
    "C."
   ]
  },
  {
   "cell_type": "code",
   "execution_count": null,
   "metadata": {},
   "outputs": [],
   "source": []
  },
  {
   "cell_type": "markdown",
   "metadata": {},
   "source": [
    "D."
   ]
  },
  {
   "cell_type": "code",
   "execution_count": null,
   "metadata": {},
   "outputs": [],
   "source": []
  },
  {
   "cell_type": "markdown",
   "metadata": {},
   "source": [
    "Describe the following events:\n",
    "- Case A: The score of player A is 2.\n",
    "- Case B: The greatest score is lower or equal than 2.\n",
    "- Case C: Considering the case where the winner gets as many coins as the difference between scores (D), describe: \n",
    "  * Player A wins at least 4 coins.\n",
    "  * Player A loses more than 2 coins.\n",
    "  * Player A neither wins nor loses coins."
   ]
  },
  {
   "cell_type": "markdown",
   "metadata": {},
   "source": [
    "A."
   ]
  },
  {
   "cell_type": "code",
   "execution_count": null,
   "metadata": {},
   "outputs": [],
   "source": []
  },
  {
   "cell_type": "markdown",
   "metadata": {},
   "source": [
    "B."
   ]
  },
  {
   "cell_type": "code",
   "execution_count": null,
   "metadata": {},
   "outputs": [],
   "source": []
  },
  {
   "cell_type": "markdown",
   "metadata": {},
   "source": [
    "C."
   ]
  },
  {
   "cell_type": "code",
   "execution_count": null,
   "metadata": {},
   "outputs": [],
   "source": []
  },
  {
   "cell_type": "code",
   "execution_count": null,
   "metadata": {},
   "outputs": [],
   "source": []
  },
  {
   "cell_type": "code",
   "execution_count": null,
   "metadata": {},
   "outputs": [],
   "source": []
  }
 ],
 "metadata": {
  "kernelspec": {
   "display_name": "Python 3",
   "language": "python",
   "name": "python3"
  },
  "language_info": {
   "codemirror_mode": {
    "name": "ipython",
    "version": 3
   },
   "file_extension": ".py",
   "mimetype": "text/x-python",
   "name": "python",
   "nbconvert_exporter": "python",
   "pygments_lexer": "ipython3",
   "version": "3.7.6"
  }
 },
 "nbformat": 4,
 "nbformat_minor": 2
}
